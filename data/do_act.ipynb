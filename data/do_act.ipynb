{
 "cells": [
  {
   "cell_type": "code",
   "execution_count": 60,
   "metadata": {},
   "outputs": [],
   "source": [
    "import pandas as pd\n",
    "from datetime import datetime\n",
    "from datetime import timedelta\n",
    "from dataclasses import dataclass"
   ]
  },
  {
   "cell_type": "code",
   "execution_count": 25,
   "metadata": {},
   "outputs": [],
   "source": [
    "act = pd.read_excel('act_21.xlsx')\n",
    "ost = pd.read_excel('ost_26.07.xlsx')"
   ]
  },
  {
   "cell_type": "code",
   "execution_count": 24,
   "metadata": {},
   "outputs": [
    {
     "data": {
      "text/plain": [
       "29"
      ]
     },
     "execution_count": 24,
     "metadata": {},
     "output_type": "execute_result"
    }
   ],
   "source": [
    "indexes_to_drop = ost[ost['Номенклатура'].str.contains('ДАЛ', na=False)].index\n",
    "ost_drop = ost.drop(indexes_to_drop, axis=0)\n",
    "drop = len(ost) - len(ost_drop)\n",
    "drop\n"
   ]
  },
  {
   "cell_type": "code",
   "execution_count": 63,
   "metadata": {},
   "outputs": [
    {
     "name": "stdout",
     "output_type": "stream",
     "text": [
      "tr\n"
     ]
    }
   ],
   "source": [
    "date_test = '16.01.2023'\n",
    "format_date = '%d.%m.%Y'\n",
    "date = datetime.strptime(date_test, format_date).date()\n",
    "today = datetime.today().date()\n",
    "offset = today - date\n",
    "if offset > timedelta(days=180):\n",
    "    print('tr')\n"
   ]
  },
  {
   "cell_type": "code",
   "execution_count": 125,
   "metadata": {},
   "outputs": [],
   "source": [
    "@dataclass\n",
    "class Beer:\n",
    "    name: str\n",
    "    alc_prod: str\n",
    "    count: str\n",
    "    reference: str\n",
    "    new_references: list"
   ]
  },
  {
   "cell_type": "code",
   "execution_count": 126,
   "metadata": {},
   "outputs": [],
   "source": [
    "def name_reference_check(beer, act, ost):\n",
    "    ost_name = ost[ost['Номенклатура'].str.contains(beer.name, na=False)]\n",
    "    for index, row in ost_name.iterrows():\n",
    "        if row['Количество'] >= beer.count and beer.count != 0:\n",
    "            beer.new_references.append([beer.count, row['Справка 2']])\n",
    "            row['Количество'] -= beer.count\n",
    "            beer.count = 0\n",
    "            ost.loc[ost['N'] == row['N'], 'Количество'] = row['Количество']\n",
    "        if row['Количество'] < beer.count and row['Количество'] != 0:\n",
    "            beer.new_references.append([row['Количество'], row['Справка 2']])\n",
    "            beer.count -= row['Количество']\n",
    "            row['Количество'] = 0\n",
    "            ost.loc[ost['N'] == row['N'], 'Количество'] = row['Количество']\n",
    "    return ost"
   ]
  },
  {
   "cell_type": "code",
   "execution_count": 127,
   "metadata": {},
   "outputs": [],
   "source": [
    "def alc_prod_reference_check(beer, act, ost):\n",
    "    ost_name = ost[ost['Алкогольная продукция'].str.contains(beer.alc_prod, na=False)]\n",
    "    for index, row in ost_name.iterrows():\n",
    "        if row['Количество'] >= beer.count and beer.count != 0:\n",
    "            beer.new_references.append([beer.count, row['Справка 2']])\n",
    "            row['Количество'] -= beer.count\n",
    "            beer.count = 0\n",
    "            ost.loc[ost['N'] == row['N'], 'Количество'] = row['Количество']\n",
    "        if row['Количество'] < beer.count and row['Количество'] != 0:\n",
    "            beer.new_references.append([row['Количество'], row['Справка 2']])\n",
    "            beer.count -= row['Количество']\n",
    "            row['Количество'] = 0\n",
    "            ost.loc[ost['N'] == row['N'], 'Количество'] = row['Количество']\n",
    "    return ost"
   ]
  },
  {
   "cell_type": "code",
   "execution_count": 136,
   "metadata": {},
   "outputs": [],
   "source": [
    "def creating_correct_rows(row, beer, act, act_del):\n",
    "    #while beer.new_references != []:\n",
    "    for ref in beer.new_references:\n",
    "        row['Количество'] = ref[0]\n",
    "        row['Справка 2'] = ref[1]\n",
    "        #act = pd.concat([act, row])\n",
    "        act.loc[len(act)] = row\n",
    "    if beer.count != 0:\n",
    "        row['Количество'] = beer.count\n",
    "        row['Справка 2'] = 'NaN'\n",
    "        act_del.loc[len(act)] = row\n",
    "    return act, act_del\n"
   ]
  },
  {
   "cell_type": "code",
   "execution_count": 138,
   "metadata": {},
   "outputs": [
    {
     "name": "stdout",
     "output_type": "stream",
     "text": [
      "Beer(name='Реворт Лава Ран 0,5', alc_prod='Пивной напиток непастеризованный нефильтрованный неосветленный светлый ГОЗЕ 5 ЛАВА РАН', count=0, reference='FB-000005935005873', new_references=[[1, 'FB-000005935005873']])\n",
      "Beer(name='Сигал Олег Салти Бомб 0,5', alc_prod='Пиво светлое непастеризованное нефильтрованное неосветленное \"Саур 1\"', count=0, reference='FB-000005952888398', new_references=[[1, 'FB-000005952888397']])\n",
      "Beer(name='Бирвария Дон Симон 0,33', alc_prod='Пиво темное непастеризованное нефильтрованное неосветленное \"Дон Симон\"', count=0, reference='FB-000005670604036', new_references=[[4, 'FB-000005670604036']])\n",
      "Beer(name='Ред Баттон Янтарное 1 л', alc_prod='Пиво светлое непастеризованное нефильтрованное неосветленное \"Бо', count=0, reference=nan, new_references=[[3, 'FB-000006004784800']])\n",
      "Beer(name='Аляска Бутлегер Олд Фэшн 0.5', alc_prod='Пиво светлое непастеризованное нефильтрованное неосветленное \"Св', count=0, reference='FB-000006001370558', new_references=[[2, 'FB-000006001370558']])\n",
      "Beer(name='Бирвария Дом де Фландерус Маракуйя 0,5', alc_prod='Пивной напиток непастеризованный нефильтрованный неосветлённый \"Брюмен соур эль версия 16\"', count=0, reference='FB-000005873679867', new_references=[[9, 'FB-000005873679867']])\n",
      "Beer(name='Бернинг Гозе Жаркое По-Домашнему 0.45', alc_prod='Пивной напиток непастеризованный нефильтрованный неосветленный \"Бёрнинг Бревери Гозэ 3\"', count=0, reference='FB-000005942466522', new_references=[[2, 'FB-000005942466522']])\n",
      "Beer(name='Бирвария Сносная Горечь Пития 0,5', alc_prod='Пиво светлое непастеризованное нефильтрованное неосветленное \"Хейзи 5\"', count=0, reference='FB-000005963567644', new_references=[[1, 'FB-000005963567644']])\n",
      "Beer(name='Бирвария Жижка от салата 0.5', alc_prod='Пивной напиток нефильтрованный непастеризованный \"Витбир ягодный (серия 5)\" (Торпеда)', count=1, reference='FB-000005738505673', new_references=[])\n",
      "Beer(name='Заговор Смутное Время 0.5', alc_prod='Пиво светлое непастеризованное нефильтрованное неосветленное \"Смутное Время\"', count=0, reference='FB-000005886689703', new_references=[[1, 'FB-000005886689703']])\n",
      "Beer(name='Вайт Стоун Эль Флоридита 0.5', alc_prod='Пивной напиток \"ВС Смузи 2\"', count=0, reference='FB-000005952321999', new_references=[[2, 'FB-000005952321999']])\n",
      "Beer(name='Миднайт Киллер Вэйл 0.5', alc_prod='Пивной напиток непастеризованный нефильтрованный осветлённый \"Винтер Эль 2\"', count=0, reference='FB-000005977158093', new_references=[[2, 'FB-000005977158093']])\n",
      "Beer(name='Велка Морава Баварское 0.5', alc_prod='Пиво светлое непастеризованное фильтрованное Моравский Класс Баварское', count=0, reference='FB-000005800389959', new_references=[[1.0, 'FB-000005800389959'], [1.0, 'FB-000005492369484']])\n",
      "Beer(name='Рошфор 8 0,33', alc_prod='Пиво \"Траппист Рошфор 8\" (\" Trappistes Rochefort 8\" ) темн., фильтр., непаст. 0,33л, 9,2% об.', count=0, reference=nan, new_references=[[1, 'FB-000005749201003']])\n",
      "Beer(name='Аляска Эйяфьядлайёкюдль 0,5', alc_prod='Пиво темное нефильтрованное непастеризованное неосветленное «Темное пиво 21»', count=0, reference=nan, new_references=[[1.0, 'FB-000006001370547'], [1.0, 'FB-000005154557702']])\n",
      "Beer(name='Аляска Залечь на дно в Брюгге 0.5', alc_prod='Пиво темное непастеризованное нефильтрованное неосветленное \"Тем', count=0, reference='FB-000006001370549', new_references=[[2, 'FB-000006001370549']])\n",
      "Beer(name='Аф Брю Сангре Фреска 0,33', alc_prod='Пивной напиток нефильтрованный неосветленный непастеризованный \"АФ Брю. Сангре Фреска\"', count=0, reference='FB-000005918147013', new_references=[[1, 'FB-000005918147013']])\n",
      "Beer(name='Реворт Ханами 0,5', alc_prod='Медовуха непастеризованная нефильтрованная неосветленная МЁД 116 РЕВОРТ ХАНАМИ ВИШНЯ МИНДАЛЬ', count=0, reference='FB-000005977158097', new_references=[[1, 'FB-000005977158097']])\n",
      "Beer(name='Кома Соль Медь и Спички 0,5', alc_prod='Пивной напиток темный непастеризованный нефильтрованный неосветленный ФРУТ БИР 47 КОМА СОЛЬ МЕДЬ СПИЧКИ БЛЮ ЛЭЙБЛ ЧЕРНИКА КЛУБНИ', count=0, reference='FB-000005900419891', new_references=[[1, 'FB-000005900419891']])\n",
      "Beer(name='4 пивовара Доза Банан Клубника 0,5', alc_prod='Пивной напиток непастеризованный нефильтрованный неосветленный \"Доза банан клубника\"', count=0, reference='FB-000005998678245', new_references=[[2, 'FB-000005998678245']])\n",
      "Beer(name='Митра Локал 00 0.5', alc_prod='Пивной напиток непастеризованный нефильтрованный неосветленный \"Локал нулевые\"', count=0, reference='FB-000005938989071', new_references=[[2, 'FB-000005938989071']])\n",
      "Beer(name='Айингер Столетнее 0,5', alc_prod='Пиво светлое непастеризованное фильтрованное ячменное низового брожения \"Айингер Столетнее\"', count=0, reference='FB-000005935463980', new_references=[[3, 'FB-000005935463980']])\n",
      "Beer(name='Велка Морава Светле 0,5', alc_prod='Пиво светлое непастеризованное фильтрованное Моравский класс светлое', count=0, reference='FB-000005701840562', new_references=[[2, 'FB-000005210430038']])\n",
      "Beer(name='Митра Локал 10 0.5', alc_prod='Пивной напиток непастеризованный нефильтрованный неосветленный \"Локал десятые\"', count=0, reference='FB-000005938989072', new_references=[[2, 'FB-000005938989072']])\n",
      "Beer(name='ДаДа Сидр номер 3 0,5', alc_prod='Сидр традиционный пастеризованный нефильтрованный неосветленный полусладкий игристый \"СИДР №3 (яблочный полусладкий)\"', count=0, reference='FB-000005814715481', new_references=[[3, 'FB-000005814715481']])\n",
      "Beer(name='Аф Брю Ля Вирген Де Москоу 0,33', alc_prod='Пиво светлое непастеризованное нефильтрованное неосветленное \"АФ Брю. Ля Вирхен де Маис\"', count=0, reference='FB-000005396321892', new_references=[[1, 'FB-000005893996860']])\n",
      "Beer(name='Биг Вилладж айс ривер 0.5', alc_prod='Пиво светлое нефильтрованное осветленное непастеризованное \"Индиа Пейл Эль\"', count=0, reference='FB-000005799144964', new_references=[[2, 'FB-000005998678251']])\n",
      "Beer(name='Джавс Атомная прачечная 0,5', alc_prod='Пиво светлое непастеризованное фильтрованное \"АТОМНАЯ ПРАЧЕЧНАЯ ИПА\"', count=0, reference='FB-000005894352047', new_references=[[1, 'FB-000005330904769']])\n",
      "Beer(name='Джавс Атомная прачечная 0,5', alc_prod='Пиво светлое непастеризованное фильтрованное \"АТОМНАЯ ПРАЧЕЧНАЯ ИПА\"', count=0, reference='FB-000005918856528', new_references=[[2, 'FB-000005918856528']])\n",
      "Beer(name='Гравити Бананед 0,5', alc_prod='Сидр фруктовый пастеризованный нефильтрованный газированный полусладкий «с бананом»', count=0, reference='FB-000005883787437', new_references=[[3, 'FB-000005883787437']])\n",
      "Beer(name='Вайнштефан Хефевайцен 0,5', alc_prod='Пиво светлое нефильтрованное неосветленное пастеризованное Вайнштефан Хефевайсбир Лайхт', count=0, reference=nan, new_references=[[1, 'FB-000005899329620']])\n",
      "Beer(name='Хопхед Маракуйя Дипа 0,5', alc_prod='Пиво светлое непастеризованное нефильтрованное неосветлённое \"Хопхэд двойной ипа 3\"', count=0, reference='FB-000005939017972', new_references=[[1, 'FB-000005939017972']])\n",
      "Beer(name='Биг Вилладж Дип Лернинг 0.5', alc_prod='Пиво светлое нефильтрованное неосветленное непастеризованное \"Хейзи Американ Пейл Эль\"', count=0, reference='FB-000005977158091', new_references=[[1, 'FB-000005977158091']])\n",
      "Beer(name='Айингер Лагер Хелль 0,5', alc_prod='Пиво светлое непастеризованное фильтрованное ячменное низового брожения \"Айингер Лагер Хелль\"', count=0, reference='FB-000005838222577', new_references=[[1, 'FB-000005935463977']])\n",
      "Beer(name='Айингер Лагер Хелль 0,5', alc_prod='Пиво светлое непастеризованное фильтрованное ячменное низового брожения \"Айингер Лагер Хелль\"', count=0, reference='FB-000005935463977', new_references=[[1, 'FB-000005935463977']])\n",
      "Beer(name='Заговор Хоп Дивижн 0.5', alc_prod='Пиво светлое непастеризованное нефильтрованное неосветленное \"Хоп Дивижн\"', count=0, reference='FB-000005935005875', new_references=[[1, 'FB-000005935005875']])\n",
      "Beer(name='Селфмейд Груви 0.5', alc_prod='Пиво светлое непастеризованное нефильтрованное неосветленное «СБ ДИПА 1»', count=0, reference='FB-000005906453018', new_references=[[1, 'FB-000005906453018']])\n",
      "Beer(name='Парадокс Мичелада 0,33', alc_prod='Пивной напиток нефильтрованный непастеризованный неосветленный \"Саур эль 3\"', count=0, reference='FB-000005765078769', new_references=[[1, 'FB-000005784765054']])\n",
      "Beer(name='Газ Брю Чизкейк 2 0.5', alc_prod='Пивной напиток \"Фруктовый Саур Эль 3\"', count=0, reference='FB-000005940020496', new_references=[[2, 'FB-000005940020496']])\n",
      "Beer(name='Джавс Ищу человека Красный 0.5', alc_prod='Пивной напиток фильтрованный непастеризованный \"Ищу Человека Рэд\"', count=0, reference='FB-000005741487711', new_references=[[1, 'FB-000005741487711']])\n",
      "Beer(name='Джавс Чавыча 0,5', alc_prod='Пиво светлое непастеризованное фильтрованное \"Чавыча\"', count=0, reference='FB-000005802699973', new_references=[[1, 'FB-000005894352048']])\n",
      "Beer(name='Джавс Ищу Человека темный 0,5', alc_prod='Пиво темное непастеризованное фильтрованное \"Ищу Человека\"', count=0, reference='FB-000005894352049', new_references=[[1, 'FB-000005894352049']])\n",
      "Beer(name='Джавс Рис 0,5', alc_prod='Пиво темное непастеризованное нефильтрованное неосветленное \"ДЖОУС Рашн Империал Стаут В.1\"', count=0, reference='FB-000005918856530', new_references=[[1, 'FB-000005918856530']])\n",
      "Beer(name='Айингер Альтбайриш Дункель 0,5', alc_prod='Пиво темное непастеризованное фильтрованное ячменное низового брожения \"Айингер Альтбайриш Дункель\"', count=0, reference='FB-000005838222581', new_references=[[1, 'FB-000005935463981']])\n",
      "Beer(name='Айингер Альтбайриш Дункель 0,5', alc_prod='Пиво темное непастеризованное фильтрованное ячменное низового брожения \"Айингер Альтбайриш Дункель\"', count=0, reference='FB-000005935463981', new_references=[[1, 'FB-000005935463981']])\n",
      "Beer(name='Степь и Ветер Традишнл Мид 0,5', alc_prod='Медовуха нефильтрованная осветленная \"СиВ 1\"', count=0, reference=nan, new_references=[[1, 'FB-000005958970764']])\n",
      "Beer(name='Гравити Блубери Джем 0,5', alc_prod='Сидр фруктовый пастеризованный нефильтрованный газированный полусладкий «с голубикой»', count=0, reference='FB-000005984215275', new_references=[[1, 'FB-000005092818854']])\n",
      "Beer(name='Вайт Стоун Пломбир 0.5', alc_prod='Пивной напиток \"ВС Пломбир 1\"', count=0, reference='FB-000005952321998', new_references=[[2, 'FB-000005952321998']])\n",
      "Beer(name='Велка Морава Скорпио 0,5', alc_prod='Напиток, изготавливаемый на основе пива (напиток пивной) Скорпио', count=0, reference='FB-000005918647847', new_references=[[2, 'FB-000005918647847']])\n",
      "Beer(name='Инсайдер Драй Сидер 0.5', alc_prod='Сидр яблочный сухой игристый нефильтрованный неосветлённый \"ИНСАЙДЕР СУХОЙ\"', count=0, reference='FB-000005784765052', new_references=[[1, 'FB-000005784765052']])\n",
      "Beer(name='Лабиринт Томаям 0.5', alc_prod='Пиво светлое непастеризованное нефильтрованное осветленное Лабиринт светлое 15 (тираж Томаям)', count=0, reference='FB-000006001295037', new_references=[[1, 'FB-000006001295037']])\n",
      "Beer(name='Ред Баттон Фуд Флуд 0.5', alc_prod='Пивной напиток \"Фуд Флуд\" нефильтрованный, непастеризованный, св', count=0, reference=nan, new_references=[[1, 'FB-000006004784801']])\n",
      "Beer(name='Заповедник Абанамат 0,5', alc_prod='Сидр традиционный сухой непастеризованный нефильтрованный Абанамат', count=0, reference='FB-000005918647849', new_references=[[1, 'FB-000005918647849']])\n",
      "Beer(name='Шнайдер Тап 6 0,5', alc_prod='Пиво темное непастеризованное нефильтрованное неосветленное Шнайдер Вайсс Авентинус Вайцендоппелбок ТАП 06', count=0, reference='FB-000005954284579', new_references=[[1, 'FB-000005954284579']])\n",
      "Beer(name='Токсово Святой Домкрат 0,5', alc_prod='Сидр традиционный газированный сухой нефильтрованный неосветленный «Святой Домкрат»', count=0, reference='FB-000005886689707', new_references=[[1, 'FB-000005939839125']])\n",
      "Beer(name='Хопхед Традиционный Кимчи 0,5', alc_prod='Пивной напиток непастеризованный нефильтрованный неосветленный \"Хопхэд гозе версия 28\"', count=0, reference='FB-000005803015464', new_references=[[1, 'FB-000005803015464']])\n",
      "Beer(name='Завод Сант Патрики 0,5', alc_prod='Пиво темное непастеризованное нефильтрованное осветленное \"Сухой стаут\" (Сант Патрики)', count=0, reference='FB-000006001295034', new_references=[[1, 'FB-000006001295034']])\n",
      "Beer(name='Гуси Айс крим банан клубника 0,5', alc_prod='Пиво светлое непастеризованное нефильтрованное неосветленное \"ГУСИ Специальный Эль\"', count=0, reference='FB-000005976956060', new_references=[[3, 'FB-000005976956060']])\n",
      "Beer(name='Курпфальц Ур Вайцен 0,5', alc_prod='Пиво светлое пастеризованное нефильтрованное неосветленное Курпфальц Брой Ур Вайцен', count=0, reference='FB-000005954284574', new_references=[[1, 'FB-000005275394892']])\n",
      "Beer(name='Курпфальц Хелл 0,5', alc_prod='Пиво светлое непастеризованное фильтрованное Курпфальц Брой Хеллес', count=0, reference='FB-000005845994239', new_references=[[2, 'FB-000005653573500']])\n",
      "Beer(name='Клостерброй Хеллес 0,5', alc_prod='Пиво светлое фильтрованное Эшвегер Клостерброй Хеллес', count=0, reference='FB-000005761842730', new_references=[[1, 'FB-000005799740564']])\n",
      "Beer(name='Аф Брю Лоботомия ХI 0.33', alc_prod='Пиво темное непастеризованное нефильтрованное неосветленное \"АФ Брю. Лоботомия 11\"', count=0, reference='FB-000005984215273', new_references=[[2, 'FB-000005984215273']])\n",
      "Beer(name='Атмосфера На Десерт Клубника Тирамису 0,5', alc_prod='Пивной напиток непастеризованный нефильтрованный \"Саур Эль\" (НА ДЕСЕРТ 3)', count=0, reference='FB-000005806167099', new_references=[[1, 'FB-000005947763282']])\n",
      "Beer(name='Атмосфера На Десерт Клубника Тирамису 0,5', alc_prod='Пивной напиток непастеризованный нефильтрованный \"Саур Эль\" (НА ДЕСЕРТ 3)', count=0, reference='FB-000005947763282', new_references=[[2, 'FB-000005947763282']])\n",
      "Beer(name='Салденс Колд Ипа 0,5 ', alc_prod='Пивной напиток \"Салденс Томатный Гозе\"', count=0, reference='FB-000005761657054', new_references=[[2, 'FB-000005761657054']])\n",
      "Beer(name='Мэйн Рулл Ворлд ЛАст Дэй 0.5', alc_prod='Пиво светлое непастеризованное нефильтрованное неосветленное \"Хейзи 1\"', count=0, reference='FB-000005963567647', new_references=[[1, 'FB-000005963567647']])\n",
      "Beer(name='Мэйн Рулл Гэйт 0.5', alc_prod='Пиво светлое непастеризованное нефильтрованное неосветленное \"Вест Кост 3\"', count=0, reference='FB-000005874376756', new_references=[[1, 'FB-000005963567646']])\n",
      "Beer(name='Блади Пипа 0,5', alc_prod='Пиво светлое непастеризованное нефильтрованное неосветленное \"Брюмен двойной ипа 10\"', count=0, reference='FB-000005881501199', new_references=[[1, 'FB-000005881501199']])\n",
      "Beer(name='Якобинус Пилзнер 0,5', alc_prod='Пиво светлое фильтрованное Якобинус Классик Пилс', count=0, reference='FB-000005924747437', new_references=[[1, 'FB-000005924747437']])\n",
      "Beer(name='План Б Ковбой Мальборо 0,5', alc_prod='Пиво светлое непастеризованное нефильтрованное неосветленное \"Ковбой Мальборо\"', count=0, reference='FB-000005806167107', new_references=[[1, 'FB-000005806167107']])\n",
      "Beer(name='Фюртх Клостер Дункел 0.5', alc_prod='Пиво темное фильтрованное Фурт Клостер Дункель', count=0, reference='FB-000005924747439', new_references=[[1, 'FB-000005924747439']])\n",
      "Beer(name='План Б Отличный план 0,5', alc_prod='Пиво светлое непастеризованное нефильтрованное неосветленное \"Отличный План\"', count=0, reference='FB-000005806167108', new_references=[[1, 'FB-000005806167108']])\n",
      "Beer(name='Хопхед Ягодное Лукошко с Вишней 0,5', alc_prod='Пивной напиток непастеризованный нефильтрованный неосветленный \"Хопхэд смузи версия 2\"', count=0, reference='FB-000005921909257', new_references=[[1, 'FB-000005921909257']])\n",
      "Beer(name='Хопхэд Гаспачо Клубничный 0.5', alc_prod='Пивной напиток непастеризованный нефильтрованный неосветленный \"Хопхэд смузи версия 6\"', count=0, reference='FB-000005981802462', new_references=[[3, 'FB-000005981802462']])\n",
      "Beer(name='Атмосфера На Десерт Банан Клубника 0.5', alc_prod='Пивной напиток непастеризованный нефильтрованный \"Саур Эль\" (НА ДЕСЕРТ 4)', count=0, reference='FB-000005947763281', new_references=[[1, 'FB-000005947763281']])\n",
      "Beer(name='Айингер Браувайсс 0,5', alc_prod='Пиво светлое непастеризованное нефильтрованное неосветленное пшеничное верхового брожения \"Айингер Бройвайссе\"', count=0, reference='FB-000005935463979', new_references=[[3, 'FB-000005935463979']])\n",
      "Beer(name='Миднайт Джаст Ипа 0,5', alc_prod='Пиво светлое непастеризованное нефильтрованное осветленное \"ИПА 1\"', count=0, reference='FB-000005935005866', new_references=[[1, 'FB-000005935005866']])\n",
      "Beer(name='Хопхед Ягодное Лукошко Черника 0.5', alc_prod='Пивной напиток непастеризованный нефильтрованный неосветленный \"Хопхэд смузи версия 5\"', count=0, reference='FB-000005921909258', new_references=[[1, 'FB-000005921909258']])\n",
      "Beer(name='Газ Брю Чизкейк 1 0.5', alc_prod='Пивной напиток \"Фруктовый Саур Эль 1\"', count=0, reference='FB-000005940020495', new_references=[[1, 'FB-000005940020495']])\n",
      "Beer(name='Газ Брю Чизкейк 3 0.5', alc_prod='Пивной напиток \"Смузи Эль 3\"', count=0, reference='FB-000005940020497', new_references=[[1, 'FB-000005940020497']])\n",
      "Beer(name='Миднайт Вест Вэйв Цитра Страта 0,5', alc_prod='Пиво светлое непастеризованное нефильтрованное осветленное \"ИПА 1\"', count=0, reference='FB-000005760923306', new_references=[[1, 'FB-000005760923307']])\n",
      "Beer(name='Инсайдер Сайзер Ред Курант 0,5', alc_prod='Медовуха нефильтрованная неосветлённая \"Брюмен\" \"Сайзер 4\"', count=0, reference='FB-000005723180159', new_references=[[1, 'FB-000005723180159']])\n",
      "Beer(name='Биг Вилладж Бэк Хэнд 0.5', alc_prod='Пиво светлое нефильтрованное осветленное непастеризованное \"Дабл Индиа Пейл Эль\"', count=0, reference='FB-000005956663426', new_references=[[1, 'FB-000005956663426']])\n",
      "Beer(name='Биг Вилладж Виладж Пилс 0,5', alc_prod='Пиво светлое нефильтрованное осветленное непастеризованное \"Пилснер\"', count=0, reference='FB-000005874376753', new_references=[[1, 'FB-000005874376753']])\n",
      "Beer(name='Штамм Кранхаус 0.5', alc_prod='Пиво светлое непастеризованное фильтрованное \"Кёльш\"', count=0, reference='FB-000005841664490', new_references=[[1, 'FB-000005883787440']])\n",
      "Beer(name='Токсово Смокед Поинт 0.33', alc_prod='Сидр традиционный газированный нефильтрованный неосветленный сухой «Смоукт»', count=0, reference='FB-000005948224691', new_references=[[1, 'FB-000005948224691']])\n",
      "Beer(name='Токссово Гозе поинт 0,33', alc_prod='Сидр газированный сухой (Гозе Поинт)', count=0, reference='FB-000005948224689', new_references=[[1, 'FB-000005948224689']])\n",
      "Beer(name='2 бочки Помидоры Убийцы 0,5', alc_prod='Пивной напиток непастеризованный нефильтрованный неосветленный \"Помидоры\"', count=0, reference='FB-000005985041292', new_references=[[1, 'FB-000005985041292']])\n",
      "Beer(name='Хопхед Битые Огурцы 0.5', alc_prod='Пивной напиток непастеризованный нефильтрованный неосветленный \"Хопхэд гозе версия 7\"', count=0, reference='FB-000005939017970', new_references=[[1, 'FB-000005939017970']])\n",
      "Beer(name='Селфмейд Шрумдалф 0.5', alc_prod='Пивной напиток непастеризованный нефильтрованный неосветленный \"СБ Время отдыхать\"', count=0, reference='FB-000006001295042', new_references=[[1, 'FB-000006001295042']])\n",
      "Beer(name='Реворт Регатта 0,5', alc_prod='Пивной напиток светлый непастеризованный нефильтрованный осветленный ГОЗЕ 3 РЕВОРТ РЕГАТТА', count=0, reference='FB-000005976956072', new_references=[[1, 'FB-000005976956072']])\n",
      "Beer(name='весна Некрасова 0,5', alc_prod='Пиво светлое непастеризованное нефильтрованное неосветленное \"Лагер 1\"', count=0, reference='FB-000005877886256', new_references=[[1, 'FB-000005877886256']])\n",
      "Beer(name='Аляска Кухни мира Рамен 0.5', alc_prod='Пивной напиток нефильтрованный непастеризованный неосветленный \"Пивной напиток 9\" (КУХНИ МИРА: РАМЕН)', count=0, reference='FB-000005893573691', new_references=[[1, 'FB-000005942466521']])\n",
      "Beer(name='Ред Баттон Нуаж 0.5', alc_prod='Пивной напиток \"Нуаж\" нефильтрованный, непастеризованный, светлый', count=0, reference='FB-000005977158096', new_references=[[1, 'FB-000005977158096']])\n",
      "Beer(name='4 пивовара Не Кричи На Кимчи 0,5', alc_prod='Пивной напиток непастеризованный нефильтрованный неосветленный \"Гозе 7\"', count=0, reference='FB-000005925323746', new_references=[[1, 'FB-000005925323746']])\n",
      "Beer(name='Гравити Итс манго 0,5', alc_prod='Сидр фруктовый пастеризованный нефильтрованный газированный полусладкий «с манго»', count=0, reference='FB-000005780519960', new_references=[[1, 'FB-000005470971960']])\n",
      "Beer(name='Брюмен Харизма Пэшн Фрут 0,5', alc_prod='Пивной напиток непастеризованный нефильтрованный неосветлённый \"Берлинер вайсе. Харизма пассион фрут\"', count=0, reference='FB-000005911685896', new_references=[[1, 'FB-000005911685896']])\n",
      "Beer(name='Хоэнертанер Танен Хелл 0,5', alc_prod='Пиво светлое фильтрованное Хоэнтаннер Таннен Хэлл', count=0, reference='FB-000005924747434', new_references=[[1, 'FB-000005924747434']])\n",
      "Beer(name='Хоэнтанер Св.Сикстус 0,5', alc_prod='Пиво темное фильтрованное Хоэнтаннер Св.Сикстус Доппельбок Дункель', count=0, reference='FB-000005924747435', new_references=[[1, 'FB-000005924747435']])\n",
      "Beer(name='Хохентаннер Вайс Дункель 0.5', alc_prod='Пиво темное нефильтрованное неосветленное пшеничное Хоэнтаннер Холцхакер Хефе-Вэйсбир Дункель', count=0, reference='FB-000005761842732', new_references=[[1, 'FB-000005761842732']])\n"
     ]
    },
    {
     "name": "stderr",
     "output_type": "stream",
     "text": [
      "C:\\Users\\nevok\\AppData\\Local\\Temp\\ipykernel_724\\722907173.py:2: UserWarning: This pattern is interpreted as a regular expression, and has match groups. To actually get the groups, use str.extract.\n",
      "  ost_name = ost[ost['Алкогольная продукция'].str.contains(beer.alc_prod, na=False)]\n"
     ]
    }
   ],
   "source": [
    "act_new = act.drop(act.index, axis=0)\n",
    "act_del = act.drop(act.index, axis=0)\n",
    "for index, row in act.iterrows():\n",
    "    beer = Beer(name=row['Номенклатура'], alc_prod=row['Алкогольная продукция'],\n",
    "                count=row['Количество'], reference=row['Справка 2'], new_references=[])\n",
    "    if ost['Номенклатура'].isin([beer.name]).any():\n",
    "        ost = name_reference_check(beer, act, ost)\n",
    "        print(beer)\n",
    "    if ost['Алкогольная продукция'].isin([beer.alc_prod]).any() and beer.count != 0:\n",
    "        ost = alc_prod_reference_check(beer, act, ost)\n",
    "        print(beer)\n",
    "    act.loc[index, 'Справка 2'] = 'del'\n",
    "    act_new, act_del = creating_correct_rows(row, beer, act_new, act_del)\n",
    "    "
   ]
  },
  {
   "cell_type": "code",
   "execution_count": 139,
   "metadata": {},
   "outputs": [
    {
     "data": {
      "text/html": [
       "<div>\n",
       "<style scoped>\n",
       "    .dataframe tbody tr th:only-of-type {\n",
       "        vertical-align: middle;\n",
       "    }\n",
       "\n",
       "    .dataframe tbody tr th {\n",
       "        vertical-align: top;\n",
       "    }\n",
       "\n",
       "    .dataframe thead th {\n",
       "        text-align: right;\n",
       "    }\n",
       "</style>\n",
       "<table border=\"1\" class=\"dataframe\">\n",
       "  <thead>\n",
       "    <tr style=\"text-align: right;\">\n",
       "      <th></th>\n",
       "      <th>N</th>\n",
       "      <th>Индекс акцизной марки</th>\n",
       "      <th>Номенклатура</th>\n",
       "      <th>Упаковка</th>\n",
       "      <th>Ед. изм.</th>\n",
       "      <th>Алкогольная продукция</th>\n",
       "      <th>Количество</th>\n",
       "      <th>Цена</th>\n",
       "      <th>Сумма</th>\n",
       "      <th>Справка 2</th>\n",
       "      <th>Дата подтверждения ЕГАИС</th>\n",
       "    </tr>\n",
       "  </thead>\n",
       "  <tbody>\n",
       "    <tr>\n",
       "      <th>8</th>\n",
       "      <td>9</td>\n",
       "      <td>NaN</td>\n",
       "      <td>Бирвария Жижка от салата 0.5</td>\n",
       "      <td>NaN</td>\n",
       "      <td>шт</td>\n",
       "      <td>Пивной напиток нефильтрованный непастеризованн...</td>\n",
       "      <td>1</td>\n",
       "      <td>330</td>\n",
       "      <td>330</td>\n",
       "      <td>NaN</td>\n",
       "      <td>18.04.2023</td>\n",
       "    </tr>\n",
       "    <tr>\n",
       "      <th>22</th>\n",
       "      <td>22</td>\n",
       "      <td>NaN</td>\n",
       "      <td>Митра Локал 90 0.5</td>\n",
       "      <td>NaN</td>\n",
       "      <td>шт</td>\n",
       "      <td>Пивной напиток непастеризованный нефильтрованн...</td>\n",
       "      <td>2</td>\n",
       "      <td>320</td>\n",
       "      <td>512</td>\n",
       "      <td>NaN</td>\n",
       "      <td>NaN</td>\n",
       "    </tr>\n",
       "  </tbody>\n",
       "</table>\n",
       "</div>"
      ],
      "text/plain": [
       "     N Индекс акцизной марки                  Номенклатура Упаковка Ед. изм.  \\\n",
       "8    9                   NaN  Бирвария Жижка от салата 0.5      NaN       шт   \n",
       "22  22                   NaN            Митра Локал 90 0.5      NaN       шт   \n",
       "\n",
       "                                Алкогольная продукция Количество Цена Сумма  \\\n",
       "8   Пивной напиток нефильтрованный непастеризованн...          1  330   330   \n",
       "22  Пивной напиток непастеризованный нефильтрованн...          2  320   512   \n",
       "\n",
       "   Справка 2 Дата подтверждения ЕГАИС  \n",
       "8        NaN               18.04.2023  \n",
       "22       NaN                      NaN  "
      ]
     },
     "execution_count": 139,
     "metadata": {},
     "output_type": "execute_result"
    }
   ],
   "source": [
    "act_del"
   ]
  },
  {
   "cell_type": "code",
   "execution_count": 130,
   "metadata": {},
   "outputs": [],
   "source": [
    "act_new['N'] = act_new.apply(lambda row: row.name + 1, axis=1)\n",
    "act_new.to_excel('act_ref.xlsx', index=False)\n",
    "act_del.to_excel('act_del.xlsx', index=False)"
   ]
  }
 ],
 "metadata": {
  "kernelspec": {
   "display_name": ".venv",
   "language": "python",
   "name": "python3"
  },
  "language_info": {
   "codemirror_mode": {
    "name": "ipython",
    "version": 3
   },
   "file_extension": ".py",
   "mimetype": "text/x-python",
   "name": "python",
   "nbconvert_exporter": "python",
   "pygments_lexer": "ipython3",
   "version": "3.10.9"
  },
  "orig_nbformat": 4
 },
 "nbformat": 4,
 "nbformat_minor": 2
}
